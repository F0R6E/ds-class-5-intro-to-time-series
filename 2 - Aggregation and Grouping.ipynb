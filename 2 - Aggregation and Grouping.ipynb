{
 "cells": [
  {
   "cell_type": "markdown",
   "metadata": {},
   "source": [
    "![rmotr](https://user-images.githubusercontent.com/7065401/39119486-4718e386-46ec-11e8-9fc3-5250a49ef570.png)\n",
    "<hr style=\"margin-bottom: 40px;\">\n",
    "\n",
    "<img src=\"https://user-images.githubusercontent.com/872296/38710484-1b94f93c-3e97-11e8-977c-abde2e774f57.png\"\n",
    "    style=\"width:300px; float: right; margin: 0 40px 40px 40px;\"></img>\n",
    "\n",
    "# Aggregation and Grouping"
   ]
  },
  {
   "cell_type": "markdown",
   "metadata": {},
   "source": [
    "![separator2](https://user-images.githubusercontent.com/7065401/39119518-59fa51ce-46ec-11e8-8503-5f8136558f2b.png)\n",
    "\n",
    "## Hands on!"
   ]
  },
  {
   "cell_type": "code",
   "execution_count": 1,
   "metadata": {},
   "outputs": [],
   "source": [
    "import pandas as pd\n",
    "import numpy as np\n",
    "import matplotlib.pyplot as plt\n",
    "import seaborn as sns\n",
    "\n",
    "%matplotlib inline"
   ]
  },
  {
   "cell_type": "code",
   "execution_count": 2,
   "metadata": {},
   "outputs": [],
   "source": [
    "players = pd.DataFrame({\n",
    "    'salary': [\n",
    "        33285709,\n",
    "        31269231,\n",
    "        34682550,\n",
    "        25000000,\n",
    "        17826150,\n",
    "        29512900,\n",
    "        28530608,\n",
    "        26243760,\n",
    "        18868625,\n",
    "        2500000\n",
    "    ],\n",
    "    'season_start': [\n",
    "        2017, 2017, 2017, 2017, 2017, 2017, 2017, 2017, 2017, 2017\n",
    "    ],\n",
    "    'season_end': [2018, 2018, 2018, 2018, 2018, 2018, 2018, 2018, 2018, 2018],\n",
    "    'team': [\n",
    "        'CLE',\n",
    "        'DEN',\n",
    "        'GSW',\n",
    "        'GSW',\n",
    "        'GSW',\n",
    "        'LAC',\n",
    "        'OKC',\n",
    "        'OKC',\n",
    "        'SAS',\n",
    "        'SAS'\n",
    "    ],\n",
    "    'Pos': [\n",
    "        'SF', 'PF', 'PG', 'PF', 'SG', 'PF', 'PG', 'SF', 'SF', 'SG'\n",
    "    ],\n",
    "    'Age': [32.0, 31.0, 28.0, 28.0, 26.0, 27.0, 28.0, 32.0, 25.0, 39.0]\n",
    "}, index=[\n",
    "    'LeBron James',\n",
    "    'Paul Millsap',\n",
    "    'Stephen Curry',\n",
    "    'Kevin Durant',\n",
    "    'Klay Thompson',\n",
    "    'Blake Griffin',\n",
    "    'Russell Westbrook',\n",
    "    'Carmelo Anthony',\n",
    "    'Kawhi Leonard',\n",
    "    'Manu Ginobili'\n",
    "])"
   ]
  },
  {
   "cell_type": "code",
   "execution_count": 3,
   "metadata": {},
   "outputs": [],
   "source": [
    "players.sort_index(inplace=True)"
   ]
  },
  {
   "cell_type": "code",
   "execution_count": 4,
   "metadata": {},
   "outputs": [
    {
     "data": {
      "text/html": [
       "<div>\n",
       "<style scoped>\n",
       "    .dataframe tbody tr th:only-of-type {\n",
       "        vertical-align: middle;\n",
       "    }\n",
       "\n",
       "    .dataframe tbody tr th {\n",
       "        vertical-align: top;\n",
       "    }\n",
       "\n",
       "    .dataframe thead th {\n",
       "        text-align: right;\n",
       "    }\n",
       "</style>\n",
       "<table border=\"1\" class=\"dataframe\">\n",
       "  <thead>\n",
       "    <tr style=\"text-align: right;\">\n",
       "      <th></th>\n",
       "      <th>Age</th>\n",
       "      <th>Pos</th>\n",
       "      <th>salary</th>\n",
       "      <th>season_end</th>\n",
       "      <th>season_start</th>\n",
       "      <th>team</th>\n",
       "    </tr>\n",
       "  </thead>\n",
       "  <tbody>\n",
       "    <tr>\n",
       "      <th>Blake Griffin</th>\n",
       "      <td>27.0</td>\n",
       "      <td>PF</td>\n",
       "      <td>29512900</td>\n",
       "      <td>2018</td>\n",
       "      <td>2017</td>\n",
       "      <td>LAC</td>\n",
       "    </tr>\n",
       "    <tr>\n",
       "      <th>Carmelo Anthony</th>\n",
       "      <td>32.0</td>\n",
       "      <td>SF</td>\n",
       "      <td>26243760</td>\n",
       "      <td>2018</td>\n",
       "      <td>2017</td>\n",
       "      <td>OKC</td>\n",
       "    </tr>\n",
       "    <tr>\n",
       "      <th>Kawhi Leonard</th>\n",
       "      <td>25.0</td>\n",
       "      <td>SF</td>\n",
       "      <td>18868625</td>\n",
       "      <td>2018</td>\n",
       "      <td>2017</td>\n",
       "      <td>SAS</td>\n",
       "    </tr>\n",
       "    <tr>\n",
       "      <th>Kevin Durant</th>\n",
       "      <td>28.0</td>\n",
       "      <td>PF</td>\n",
       "      <td>25000000</td>\n",
       "      <td>2018</td>\n",
       "      <td>2017</td>\n",
       "      <td>GSW</td>\n",
       "    </tr>\n",
       "    <tr>\n",
       "      <th>Klay Thompson</th>\n",
       "      <td>26.0</td>\n",
       "      <td>SG</td>\n",
       "      <td>17826150</td>\n",
       "      <td>2018</td>\n",
       "      <td>2017</td>\n",
       "      <td>GSW</td>\n",
       "    </tr>\n",
       "    <tr>\n",
       "      <th>LeBron James</th>\n",
       "      <td>32.0</td>\n",
       "      <td>SF</td>\n",
       "      <td>33285709</td>\n",
       "      <td>2018</td>\n",
       "      <td>2017</td>\n",
       "      <td>CLE</td>\n",
       "    </tr>\n",
       "    <tr>\n",
       "      <th>Manu Ginobili</th>\n",
       "      <td>39.0</td>\n",
       "      <td>SG</td>\n",
       "      <td>2500000</td>\n",
       "      <td>2018</td>\n",
       "      <td>2017</td>\n",
       "      <td>SAS</td>\n",
       "    </tr>\n",
       "    <tr>\n",
       "      <th>Paul Millsap</th>\n",
       "      <td>31.0</td>\n",
       "      <td>PF</td>\n",
       "      <td>31269231</td>\n",
       "      <td>2018</td>\n",
       "      <td>2017</td>\n",
       "      <td>DEN</td>\n",
       "    </tr>\n",
       "    <tr>\n",
       "      <th>Russell Westbrook</th>\n",
       "      <td>28.0</td>\n",
       "      <td>PG</td>\n",
       "      <td>28530608</td>\n",
       "      <td>2018</td>\n",
       "      <td>2017</td>\n",
       "      <td>OKC</td>\n",
       "    </tr>\n",
       "    <tr>\n",
       "      <th>Stephen Curry</th>\n",
       "      <td>28.0</td>\n",
       "      <td>PG</td>\n",
       "      <td>34682550</td>\n",
       "      <td>2018</td>\n",
       "      <td>2017</td>\n",
       "      <td>GSW</td>\n",
       "    </tr>\n",
       "  </tbody>\n",
       "</table>\n",
       "</div>"
      ],
      "text/plain": [
       "                    Age Pos    salary  season_end  season_start team\n",
       "Blake Griffin      27.0  PF  29512900        2018          2017  LAC\n",
       "Carmelo Anthony    32.0  SF  26243760        2018          2017  OKC\n",
       "Kawhi Leonard      25.0  SF  18868625        2018          2017  SAS\n",
       "Kevin Durant       28.0  PF  25000000        2018          2017  GSW\n",
       "Klay Thompson      26.0  SG  17826150        2018          2017  GSW\n",
       "LeBron James       32.0  SF  33285709        2018          2017  CLE\n",
       "Manu Ginobili      39.0  SG   2500000        2018          2017  SAS\n",
       "Paul Millsap       31.0  PF  31269231        2018          2017  DEN\n",
       "Russell Westbrook  28.0  PG  28530608        2018          2017  OKC\n",
       "Stephen Curry      28.0  PG  34682550        2018          2017  GSW"
      ]
     },
     "execution_count": 4,
     "metadata": {},
     "output_type": "execute_result"
    }
   ],
   "source": [
    "players"
   ]
  },
  {
   "cell_type": "code",
   "execution_count": 5,
   "metadata": {},
   "outputs": [
    {
     "name": "stdout",
     "output_type": "stream",
     "text": [
      "<class 'pandas.core.frame.DataFrame'>\n",
      "Index: 10 entries, Blake Griffin to Stephen Curry\n",
      "Data columns (total 6 columns):\n",
      "Age             10 non-null float64\n",
      "Pos             10 non-null object\n",
      "salary          10 non-null int64\n",
      "season_end      10 non-null int64\n",
      "season_start    10 non-null int64\n",
      "team            10 non-null object\n",
      "dtypes: float64(1), int64(3), object(2)\n",
      "memory usage: 560.0+ bytes\n"
     ]
    }
   ],
   "source": [
    "players.info()"
   ]
  },
  {
   "cell_type": "markdown",
   "metadata": {},
   "source": [
    "![separator1](https://user-images.githubusercontent.com/7065401/39119545-6d73d9aa-46ec-11e8-98d3-40204614f000.png)\n",
    "\n",
    "## Understanding Grouping\n",
    "\n",
    "We can manually simulate the Split > Apply > Combine operation."
   ]
  },
  {
   "cell_type": "markdown",
   "metadata": {},
   "source": [
    "##### 1. Split (split players by positions)"
   ]
  },
  {
   "cell_type": "code",
   "execution_count": 6,
   "metadata": {
    "scrolled": false
   },
   "outputs": [
    {
     "data": {
      "text/plain": [
       "SF    3\n",
       "PF    3\n",
       "PG    2\n",
       "SG    2\n",
       "Name: Pos, dtype: int64"
      ]
     },
     "execution_count": 6,
     "metadata": {},
     "output_type": "execute_result"
    }
   ],
   "source": [
    "players['Pos'].value_counts()"
   ]
  },
  {
   "cell_type": "markdown",
   "metadata": {},
   "source": [
    "**Position = 'PF'**"
   ]
  },
  {
   "cell_type": "code",
   "execution_count": 7,
   "metadata": {},
   "outputs": [
    {
     "data": {
      "text/html": [
       "<div>\n",
       "<style scoped>\n",
       "    .dataframe tbody tr th:only-of-type {\n",
       "        vertical-align: middle;\n",
       "    }\n",
       "\n",
       "    .dataframe tbody tr th {\n",
       "        vertical-align: top;\n",
       "    }\n",
       "\n",
       "    .dataframe thead th {\n",
       "        text-align: right;\n",
       "    }\n",
       "</style>\n",
       "<table border=\"1\" class=\"dataframe\">\n",
       "  <thead>\n",
       "    <tr style=\"text-align: right;\">\n",
       "      <th></th>\n",
       "      <th>Age</th>\n",
       "      <th>Pos</th>\n",
       "      <th>salary</th>\n",
       "      <th>season_end</th>\n",
       "      <th>season_start</th>\n",
       "      <th>team</th>\n",
       "    </tr>\n",
       "  </thead>\n",
       "  <tbody>\n",
       "    <tr>\n",
       "      <th>Blake Griffin</th>\n",
       "      <td>27.0</td>\n",
       "      <td>PF</td>\n",
       "      <td>29512900</td>\n",
       "      <td>2018</td>\n",
       "      <td>2017</td>\n",
       "      <td>LAC</td>\n",
       "    </tr>\n",
       "    <tr>\n",
       "      <th>Kevin Durant</th>\n",
       "      <td>28.0</td>\n",
       "      <td>PF</td>\n",
       "      <td>25000000</td>\n",
       "      <td>2018</td>\n",
       "      <td>2017</td>\n",
       "      <td>GSW</td>\n",
       "    </tr>\n",
       "    <tr>\n",
       "      <th>Paul Millsap</th>\n",
       "      <td>31.0</td>\n",
       "      <td>PF</td>\n",
       "      <td>31269231</td>\n",
       "      <td>2018</td>\n",
       "      <td>2017</td>\n",
       "      <td>DEN</td>\n",
       "    </tr>\n",
       "  </tbody>\n",
       "</table>\n",
       "</div>"
      ],
      "text/plain": [
       "                Age Pos    salary  season_end  season_start team\n",
       "Blake Griffin  27.0  PF  29512900        2018          2017  LAC\n",
       "Kevin Durant   28.0  PF  25000000        2018          2017  GSW\n",
       "Paul Millsap   31.0  PF  31269231        2018          2017  DEN"
      ]
     },
     "execution_count": 7,
     "metadata": {},
     "output_type": "execute_result"
    }
   ],
   "source": [
    "players[players['Pos'] == 'PF']"
   ]
  },
  {
   "cell_type": "markdown",
   "metadata": {},
   "source": [
    "**Position = 'SF'**"
   ]
  },
  {
   "cell_type": "code",
   "execution_count": 8,
   "metadata": {},
   "outputs": [
    {
     "data": {
      "text/html": [
       "<div>\n",
       "<style scoped>\n",
       "    .dataframe tbody tr th:only-of-type {\n",
       "        vertical-align: middle;\n",
       "    }\n",
       "\n",
       "    .dataframe tbody tr th {\n",
       "        vertical-align: top;\n",
       "    }\n",
       "\n",
       "    .dataframe thead th {\n",
       "        text-align: right;\n",
       "    }\n",
       "</style>\n",
       "<table border=\"1\" class=\"dataframe\">\n",
       "  <thead>\n",
       "    <tr style=\"text-align: right;\">\n",
       "      <th></th>\n",
       "      <th>Age</th>\n",
       "      <th>Pos</th>\n",
       "      <th>salary</th>\n",
       "      <th>season_end</th>\n",
       "      <th>season_start</th>\n",
       "      <th>team</th>\n",
       "    </tr>\n",
       "  </thead>\n",
       "  <tbody>\n",
       "    <tr>\n",
       "      <th>Carmelo Anthony</th>\n",
       "      <td>32.0</td>\n",
       "      <td>SF</td>\n",
       "      <td>26243760</td>\n",
       "      <td>2018</td>\n",
       "      <td>2017</td>\n",
       "      <td>OKC</td>\n",
       "    </tr>\n",
       "    <tr>\n",
       "      <th>Kawhi Leonard</th>\n",
       "      <td>25.0</td>\n",
       "      <td>SF</td>\n",
       "      <td>18868625</td>\n",
       "      <td>2018</td>\n",
       "      <td>2017</td>\n",
       "      <td>SAS</td>\n",
       "    </tr>\n",
       "    <tr>\n",
       "      <th>LeBron James</th>\n",
       "      <td>32.0</td>\n",
       "      <td>SF</td>\n",
       "      <td>33285709</td>\n",
       "      <td>2018</td>\n",
       "      <td>2017</td>\n",
       "      <td>CLE</td>\n",
       "    </tr>\n",
       "  </tbody>\n",
       "</table>\n",
       "</div>"
      ],
      "text/plain": [
       "                  Age Pos    salary  season_end  season_start team\n",
       "Carmelo Anthony  32.0  SF  26243760        2018          2017  OKC\n",
       "Kawhi Leonard    25.0  SF  18868625        2018          2017  SAS\n",
       "LeBron James     32.0  SF  33285709        2018          2017  CLE"
      ]
     },
     "execution_count": 8,
     "metadata": {},
     "output_type": "execute_result"
    }
   ],
   "source": [
    "players[players['Pos'] == 'SF']"
   ]
  },
  {
   "cell_type": "markdown",
   "metadata": {},
   "source": [
    "**Position = 'PG'**"
   ]
  },
  {
   "cell_type": "code",
   "execution_count": 9,
   "metadata": {},
   "outputs": [
    {
     "data": {
      "text/html": [
       "<div>\n",
       "<style scoped>\n",
       "    .dataframe tbody tr th:only-of-type {\n",
       "        vertical-align: middle;\n",
       "    }\n",
       "\n",
       "    .dataframe tbody tr th {\n",
       "        vertical-align: top;\n",
       "    }\n",
       "\n",
       "    .dataframe thead th {\n",
       "        text-align: right;\n",
       "    }\n",
       "</style>\n",
       "<table border=\"1\" class=\"dataframe\">\n",
       "  <thead>\n",
       "    <tr style=\"text-align: right;\">\n",
       "      <th></th>\n",
       "      <th>Age</th>\n",
       "      <th>Pos</th>\n",
       "      <th>salary</th>\n",
       "      <th>season_end</th>\n",
       "      <th>season_start</th>\n",
       "      <th>team</th>\n",
       "    </tr>\n",
       "  </thead>\n",
       "  <tbody>\n",
       "    <tr>\n",
       "      <th>Russell Westbrook</th>\n",
       "      <td>28.0</td>\n",
       "      <td>PG</td>\n",
       "      <td>28530608</td>\n",
       "      <td>2018</td>\n",
       "      <td>2017</td>\n",
       "      <td>OKC</td>\n",
       "    </tr>\n",
       "    <tr>\n",
       "      <th>Stephen Curry</th>\n",
       "      <td>28.0</td>\n",
       "      <td>PG</td>\n",
       "      <td>34682550</td>\n",
       "      <td>2018</td>\n",
       "      <td>2017</td>\n",
       "      <td>GSW</td>\n",
       "    </tr>\n",
       "  </tbody>\n",
       "</table>\n",
       "</div>"
      ],
      "text/plain": [
       "                    Age Pos    salary  season_end  season_start team\n",
       "Russell Westbrook  28.0  PG  28530608        2018          2017  OKC\n",
       "Stephen Curry      28.0  PG  34682550        2018          2017  GSW"
      ]
     },
     "execution_count": 9,
     "metadata": {},
     "output_type": "execute_result"
    }
   ],
   "source": [
    "players[players['Pos'] == 'PG']"
   ]
  },
  {
   "cell_type": "markdown",
   "metadata": {},
   "source": [
    "##### 2. Apply (apply a function to each group)\n",
    "\n",
    "For example, get the `max` salary per group (per position):"
   ]
  },
  {
   "cell_type": "code",
   "execution_count": 10,
   "metadata": {
    "scrolled": true
   },
   "outputs": [
    {
     "data": {
      "text/html": [
       "<div>\n",
       "<style scoped>\n",
       "    .dataframe tbody tr th:only-of-type {\n",
       "        vertical-align: middle;\n",
       "    }\n",
       "\n",
       "    .dataframe tbody tr th {\n",
       "        vertical-align: top;\n",
       "    }\n",
       "\n",
       "    .dataframe thead th {\n",
       "        text-align: right;\n",
       "    }\n",
       "</style>\n",
       "<table border=\"1\" class=\"dataframe\">\n",
       "  <thead>\n",
       "    <tr style=\"text-align: right;\">\n",
       "      <th></th>\n",
       "      <th>Age</th>\n",
       "      <th>Pos</th>\n",
       "      <th>salary</th>\n",
       "      <th>season_end</th>\n",
       "      <th>season_start</th>\n",
       "      <th>team</th>\n",
       "    </tr>\n",
       "  </thead>\n",
       "  <tbody>\n",
       "    <tr>\n",
       "      <th>Paul Millsap</th>\n",
       "      <td>31.0</td>\n",
       "      <td>PF</td>\n",
       "      <td>31269231</td>\n",
       "      <td>2018</td>\n",
       "      <td>2017</td>\n",
       "      <td>DEN</td>\n",
       "    </tr>\n",
       "    <tr>\n",
       "      <th>Blake Griffin</th>\n",
       "      <td>27.0</td>\n",
       "      <td>PF</td>\n",
       "      <td>29512900</td>\n",
       "      <td>2018</td>\n",
       "      <td>2017</td>\n",
       "      <td>LAC</td>\n",
       "    </tr>\n",
       "    <tr>\n",
       "      <th>Kevin Durant</th>\n",
       "      <td>28.0</td>\n",
       "      <td>PF</td>\n",
       "      <td>25000000</td>\n",
       "      <td>2018</td>\n",
       "      <td>2017</td>\n",
       "      <td>GSW</td>\n",
       "    </tr>\n",
       "  </tbody>\n",
       "</table>\n",
       "</div>"
      ],
      "text/plain": [
       "                Age Pos    salary  season_end  season_start team\n",
       "Paul Millsap   31.0  PF  31269231        2018          2017  DEN\n",
       "Blake Griffin  27.0  PF  29512900        2018          2017  LAC\n",
       "Kevin Durant   28.0  PF  25000000        2018          2017  GSW"
      ]
     },
     "execution_count": 10,
     "metadata": {},
     "output_type": "execute_result"
    }
   ],
   "source": [
    "players[players['Pos'] == 'PF'].sort_values(by='salary', ascending=False)"
   ]
  },
  {
   "cell_type": "code",
   "execution_count": 11,
   "metadata": {},
   "outputs": [
    {
     "data": {
      "text/html": [
       "<div>\n",
       "<style scoped>\n",
       "    .dataframe tbody tr th:only-of-type {\n",
       "        vertical-align: middle;\n",
       "    }\n",
       "\n",
       "    .dataframe tbody tr th {\n",
       "        vertical-align: top;\n",
       "    }\n",
       "\n",
       "    .dataframe thead th {\n",
       "        text-align: right;\n",
       "    }\n",
       "</style>\n",
       "<table border=\"1\" class=\"dataframe\">\n",
       "  <thead>\n",
       "    <tr style=\"text-align: right;\">\n",
       "      <th></th>\n",
       "      <th>Age</th>\n",
       "      <th>Pos</th>\n",
       "      <th>salary</th>\n",
       "      <th>season_end</th>\n",
       "      <th>season_start</th>\n",
       "      <th>team</th>\n",
       "    </tr>\n",
       "  </thead>\n",
       "  <tbody>\n",
       "    <tr>\n",
       "      <th>LeBron James</th>\n",
       "      <td>32.0</td>\n",
       "      <td>SF</td>\n",
       "      <td>33285709</td>\n",
       "      <td>2018</td>\n",
       "      <td>2017</td>\n",
       "      <td>CLE</td>\n",
       "    </tr>\n",
       "    <tr>\n",
       "      <th>Carmelo Anthony</th>\n",
       "      <td>32.0</td>\n",
       "      <td>SF</td>\n",
       "      <td>26243760</td>\n",
       "      <td>2018</td>\n",
       "      <td>2017</td>\n",
       "      <td>OKC</td>\n",
       "    </tr>\n",
       "    <tr>\n",
       "      <th>Kawhi Leonard</th>\n",
       "      <td>25.0</td>\n",
       "      <td>SF</td>\n",
       "      <td>18868625</td>\n",
       "      <td>2018</td>\n",
       "      <td>2017</td>\n",
       "      <td>SAS</td>\n",
       "    </tr>\n",
       "  </tbody>\n",
       "</table>\n",
       "</div>"
      ],
      "text/plain": [
       "                  Age Pos    salary  season_end  season_start team\n",
       "LeBron James     32.0  SF  33285709        2018          2017  CLE\n",
       "Carmelo Anthony  32.0  SF  26243760        2018          2017  OKC\n",
       "Kawhi Leonard    25.0  SF  18868625        2018          2017  SAS"
      ]
     },
     "execution_count": 11,
     "metadata": {},
     "output_type": "execute_result"
    }
   ],
   "source": [
    "players[players['Pos'] == 'SF'].sort_values(by='salary', ascending=False)"
   ]
  },
  {
   "cell_type": "code",
   "execution_count": 12,
   "metadata": {},
   "outputs": [
    {
     "data": {
      "text/html": [
       "<div>\n",
       "<style scoped>\n",
       "    .dataframe tbody tr th:only-of-type {\n",
       "        vertical-align: middle;\n",
       "    }\n",
       "\n",
       "    .dataframe tbody tr th {\n",
       "        vertical-align: top;\n",
       "    }\n",
       "\n",
       "    .dataframe thead th {\n",
       "        text-align: right;\n",
       "    }\n",
       "</style>\n",
       "<table border=\"1\" class=\"dataframe\">\n",
       "  <thead>\n",
       "    <tr style=\"text-align: right;\">\n",
       "      <th></th>\n",
       "      <th>Age</th>\n",
       "      <th>Pos</th>\n",
       "      <th>salary</th>\n",
       "      <th>season_end</th>\n",
       "      <th>season_start</th>\n",
       "      <th>team</th>\n",
       "    </tr>\n",
       "  </thead>\n",
       "  <tbody>\n",
       "    <tr>\n",
       "      <th>Stephen Curry</th>\n",
       "      <td>28.0</td>\n",
       "      <td>PG</td>\n",
       "      <td>34682550</td>\n",
       "      <td>2018</td>\n",
       "      <td>2017</td>\n",
       "      <td>GSW</td>\n",
       "    </tr>\n",
       "    <tr>\n",
       "      <th>Russell Westbrook</th>\n",
       "      <td>28.0</td>\n",
       "      <td>PG</td>\n",
       "      <td>28530608</td>\n",
       "      <td>2018</td>\n",
       "      <td>2017</td>\n",
       "      <td>OKC</td>\n",
       "    </tr>\n",
       "  </tbody>\n",
       "</table>\n",
       "</div>"
      ],
      "text/plain": [
       "                    Age Pos    salary  season_end  season_start team\n",
       "Stephen Curry      28.0  PG  34682550        2018          2017  GSW\n",
       "Russell Westbrook  28.0  PG  28530608        2018          2017  OKC"
      ]
     },
     "execution_count": 12,
     "metadata": {},
     "output_type": "execute_result"
    }
   ],
   "source": [
    "players[players['Pos'] == 'PG'].sort_values(by='salary', ascending=False)"
   ]
  },
  {
   "cell_type": "markdown",
   "metadata": {},
   "source": [
    "This is usually referred to as **an aggregation**, you have a set of values (for example, all the salaries of the players in position `PG`) and you want to \"aggregate\" them or \"reduce\" them to a single value that has meaning for you. In this case, the aggregation is the `max` function. For each _group of players_ (split by position), we want to get the `max` salary:"
   ]
  },
  {
   "cell_type": "code",
   "execution_count": 13,
   "metadata": {
    "scrolled": true
   },
   "outputs": [
    {
     "data": {
      "text/plain": [
       "Pos\n",
       "PF    31269231\n",
       "PG    34682550\n",
       "SF    33285709\n",
       "SG    17826150\n",
       "Name: salary, dtype: int64"
      ]
     },
     "execution_count": 13,
     "metadata": {},
     "output_type": "execute_result"
    }
   ],
   "source": [
    "players['salary'].groupby(players['Pos']).max()"
   ]
  },
  {
   "cell_type": "markdown",
   "metadata": {},
   "source": [
    "The `max` function in this case, is the applied function, we could apply any other different function, for example, `mean` to get the average salary per position:"
   ]
  },
  {
   "cell_type": "code",
   "execution_count": 14,
   "metadata": {},
   "outputs": [
    {
     "data": {
      "text/plain": [
       "Pos\n",
       "PF    2.859404e+07\n",
       "PG    3.160658e+07\n",
       "SF    2.613270e+07\n",
       "SG    1.016308e+07\n",
       "Name: salary, dtype: float64"
      ]
     },
     "execution_count": 14,
     "metadata": {},
     "output_type": "execute_result"
    }
   ],
   "source": [
    "players['salary'].groupby(players['Pos']).mean()"
   ]
  },
  {
   "cell_type": "markdown",
   "metadata": {},
   "source": [
    "We could verify it works manually:"
   ]
  },
  {
   "cell_type": "code",
   "execution_count": 15,
   "metadata": {},
   "outputs": [
    {
     "data": {
      "text/html": [
       "<div>\n",
       "<style scoped>\n",
       "    .dataframe tbody tr th:only-of-type {\n",
       "        vertical-align: middle;\n",
       "    }\n",
       "\n",
       "    .dataframe tbody tr th {\n",
       "        vertical-align: top;\n",
       "    }\n",
       "\n",
       "    .dataframe thead th {\n",
       "        text-align: right;\n",
       "    }\n",
       "</style>\n",
       "<table border=\"1\" class=\"dataframe\">\n",
       "  <thead>\n",
       "    <tr style=\"text-align: right;\">\n",
       "      <th></th>\n",
       "      <th>Age</th>\n",
       "      <th>Pos</th>\n",
       "      <th>salary</th>\n",
       "      <th>season_end</th>\n",
       "      <th>season_start</th>\n",
       "      <th>team</th>\n",
       "    </tr>\n",
       "  </thead>\n",
       "  <tbody>\n",
       "    <tr>\n",
       "      <th>Stephen Curry</th>\n",
       "      <td>28.0</td>\n",
       "      <td>PG</td>\n",
       "      <td>34682550</td>\n",
       "      <td>2018</td>\n",
       "      <td>2017</td>\n",
       "      <td>GSW</td>\n",
       "    </tr>\n",
       "    <tr>\n",
       "      <th>Russell Westbrook</th>\n",
       "      <td>28.0</td>\n",
       "      <td>PG</td>\n",
       "      <td>28530608</td>\n",
       "      <td>2018</td>\n",
       "      <td>2017</td>\n",
       "      <td>OKC</td>\n",
       "    </tr>\n",
       "  </tbody>\n",
       "</table>\n",
       "</div>"
      ],
      "text/plain": [
       "                    Age Pos    salary  season_end  season_start team\n",
       "Stephen Curry      28.0  PG  34682550        2018          2017  GSW\n",
       "Russell Westbrook  28.0  PG  28530608        2018          2017  OKC"
      ]
     },
     "execution_count": 15,
     "metadata": {},
     "output_type": "execute_result"
    }
   ],
   "source": [
    "players[players['Pos'] == 'PG'].sort_values(by='salary', ascending=False)"
   ]
  },
  {
   "cell_type": "code",
   "execution_count": 16,
   "metadata": {
    "scrolled": true
   },
   "outputs": [
    {
     "data": {
      "text/plain": [
       "31606579.0"
      ]
     },
     "execution_count": 16,
     "metadata": {},
     "output_type": "execute_result"
    }
   ],
   "source": [
    "players.loc[players['Pos'] == 'PG', 'salary'].mean()"
   ]
  },
  {
   "cell_type": "markdown",
   "metadata": {},
   "source": [
    "The result of the `groupby` operation is a `Series`, indexed by the group and containing the aggregation result as the values. What happens if you want to group by multiple parameters?"
   ]
  },
  {
   "cell_type": "code",
   "execution_count": 17,
   "metadata": {
    "scrolled": true
   },
   "outputs": [
    {
     "data": {
      "text/plain": [
       "team  Pos\n",
       "CLE   SF     33285709\n",
       "DEN   PF     31269231\n",
       "GSW   PF     25000000\n",
       "      PG     34682550\n",
       "      SG     17826150\n",
       "LAC   PF     29512900\n",
       "OKC   PG     28530608\n",
       "      SF     26243760\n",
       "SAS   SF     18868625\n",
       "      SG      2500000\n",
       "Name: salary, dtype: int64"
      ]
     },
     "execution_count": 17,
     "metadata": {},
     "output_type": "execute_result"
    }
   ],
   "source": [
    "players['salary'].groupby([players['team'], players['Pos']]).max()"
   ]
  },
  {
   "cell_type": "markdown",
   "metadata": {},
   "source": [
    "The result is also a `Series`, but with a hierarchical index.\n",
    "\n",
    "In the case of grouping by multiple features, **order matters**. Changing the order of the keys to use to group will alter the resulting Series:"
   ]
  },
  {
   "cell_type": "code",
   "execution_count": 18,
   "metadata": {
    "scrolled": true
   },
   "outputs": [
    {
     "data": {
      "text/plain": [
       "Pos  team\n",
       "PF   DEN     31269231\n",
       "     GSW     25000000\n",
       "     LAC     29512900\n",
       "PG   GSW     34682550\n",
       "     OKC     28530608\n",
       "SF   CLE     33285709\n",
       "     OKC     26243760\n",
       "     SAS     18868625\n",
       "SG   GSW     17826150\n",
       "     SAS      2500000\n",
       "Name: salary, dtype: int64"
      ]
     },
     "execution_count": 18,
     "metadata": {},
     "output_type": "execute_result"
    }
   ],
   "source": [
    "players['salary'].groupby([players['Pos'], players['team']]).max()"
   ]
  },
  {
   "cell_type": "markdown",
   "metadata": {},
   "source": [
    "Although the values will need to match in the common keys. For example, the max salary of \"Team `GSW`, position `PF`\" is the same as max salary of \"position `PF`, team `GSW`\"."
   ]
  },
  {
   "cell_type": "markdown",
   "metadata": {},
   "source": [
    "![separator1](https://user-images.githubusercontent.com/7065401/39119545-6d73d9aa-46ec-11e8-98d3-40204614f000.png)\n",
    "\n",
    "### Custom aggregations\n",
    "\n",
    "Most common aggregation functions are already provided (`min`, `max`, `mean`, etc.). But you can also use other custom functions with the `aggregate` method:"
   ]
  },
  {
   "cell_type": "code",
   "execution_count": 19,
   "metadata": {},
   "outputs": [
    {
     "data": {
      "text/html": [
       "<div>\n",
       "<style scoped>\n",
       "    .dataframe tbody tr th:only-of-type {\n",
       "        vertical-align: middle;\n",
       "    }\n",
       "\n",
       "    .dataframe tbody tr th {\n",
       "        vertical-align: top;\n",
       "    }\n",
       "\n",
       "    .dataframe thead th {\n",
       "        text-align: right;\n",
       "    }\n",
       "</style>\n",
       "<table border=\"1\" class=\"dataframe\">\n",
       "  <thead>\n",
       "    <tr style=\"text-align: right;\">\n",
       "      <th></th>\n",
       "      <th>Age</th>\n",
       "      <th>salary</th>\n",
       "      <th>season_end</th>\n",
       "      <th>season_start</th>\n",
       "    </tr>\n",
       "    <tr>\n",
       "      <th>team</th>\n",
       "      <th></th>\n",
       "      <th></th>\n",
       "      <th></th>\n",
       "      <th></th>\n",
       "    </tr>\n",
       "  </thead>\n",
       "  <tbody>\n",
       "    <tr>\n",
       "      <th>CLE</th>\n",
       "      <td>32.0</td>\n",
       "      <td>33285709</td>\n",
       "      <td>2018</td>\n",
       "      <td>2017</td>\n",
       "    </tr>\n",
       "    <tr>\n",
       "      <th>DEN</th>\n",
       "      <td>31.0</td>\n",
       "      <td>31269231</td>\n",
       "      <td>2018</td>\n",
       "      <td>2017</td>\n",
       "    </tr>\n",
       "    <tr>\n",
       "      <th>GSW</th>\n",
       "      <td>82.0</td>\n",
       "      <td>77508700</td>\n",
       "      <td>6054</td>\n",
       "      <td>6051</td>\n",
       "    </tr>\n",
       "    <tr>\n",
       "      <th>LAC</th>\n",
       "      <td>27.0</td>\n",
       "      <td>29512900</td>\n",
       "      <td>2018</td>\n",
       "      <td>2017</td>\n",
       "    </tr>\n",
       "    <tr>\n",
       "      <th>OKC</th>\n",
       "      <td>60.0</td>\n",
       "      <td>54774368</td>\n",
       "      <td>4036</td>\n",
       "      <td>4034</td>\n",
       "    </tr>\n",
       "    <tr>\n",
       "      <th>SAS</th>\n",
       "      <td>64.0</td>\n",
       "      <td>21368625</td>\n",
       "      <td>4036</td>\n",
       "      <td>4034</td>\n",
       "    </tr>\n",
       "  </tbody>\n",
       "</table>\n",
       "</div>"
      ],
      "text/plain": [
       "       Age    salary  season_end  season_start\n",
       "team                                          \n",
       "CLE   32.0  33285709        2018          2017\n",
       "DEN   31.0  31269231        2018          2017\n",
       "GSW   82.0  77508700        6054          6051\n",
       "LAC   27.0  29512900        2018          2017\n",
       "OKC   60.0  54774368        4036          4034\n",
       "SAS   64.0  21368625        4036          4034"
      ]
     },
     "execution_count": 19,
     "metadata": {},
     "output_type": "execute_result"
    }
   ],
   "source": [
    "players.groupby([players['team']]).aggregate(np.sum)"
   ]
  },
  {
   "cell_type": "markdown",
   "metadata": {},
   "source": [
    "As you can see, `aggregate` is running the function in every column, even in those that don't make sense (like `season_end` or `season_start`). We can, of course, select the columns to use beforehand:"
   ]
  },
  {
   "cell_type": "code",
   "execution_count": 20,
   "metadata": {},
   "outputs": [
    {
     "data": {
      "text/html": [
       "<div>\n",
       "<style scoped>\n",
       "    .dataframe tbody tr th:only-of-type {\n",
       "        vertical-align: middle;\n",
       "    }\n",
       "\n",
       "    .dataframe tbody tr th {\n",
       "        vertical-align: top;\n",
       "    }\n",
       "\n",
       "    .dataframe thead th {\n",
       "        text-align: right;\n",
       "    }\n",
       "</style>\n",
       "<table border=\"1\" class=\"dataframe\">\n",
       "  <thead>\n",
       "    <tr style=\"text-align: right;\">\n",
       "      <th></th>\n",
       "      <th>salary</th>\n",
       "      <th>Age</th>\n",
       "    </tr>\n",
       "    <tr>\n",
       "      <th>team</th>\n",
       "      <th></th>\n",
       "      <th></th>\n",
       "    </tr>\n",
       "  </thead>\n",
       "  <tbody>\n",
       "    <tr>\n",
       "      <th>CLE</th>\n",
       "      <td>33285709</td>\n",
       "      <td>32.0</td>\n",
       "    </tr>\n",
       "    <tr>\n",
       "      <th>DEN</th>\n",
       "      <td>31269231</td>\n",
       "      <td>31.0</td>\n",
       "    </tr>\n",
       "    <tr>\n",
       "      <th>GSW</th>\n",
       "      <td>34682550</td>\n",
       "      <td>28.0</td>\n",
       "    </tr>\n",
       "    <tr>\n",
       "      <th>LAC</th>\n",
       "      <td>29512900</td>\n",
       "      <td>27.0</td>\n",
       "    </tr>\n",
       "    <tr>\n",
       "      <th>OKC</th>\n",
       "      <td>28530608</td>\n",
       "      <td>32.0</td>\n",
       "    </tr>\n",
       "    <tr>\n",
       "      <th>SAS</th>\n",
       "      <td>18868625</td>\n",
       "      <td>39.0</td>\n",
       "    </tr>\n",
       "  </tbody>\n",
       "</table>\n",
       "</div>"
      ],
      "text/plain": [
       "        salary   Age\n",
       "team                \n",
       "CLE   33285709  32.0\n",
       "DEN   31269231  31.0\n",
       "GSW   34682550  28.0\n",
       "LAC   29512900  27.0\n",
       "OKC   28530608  32.0\n",
       "SAS   18868625  39.0"
      ]
     },
     "execution_count": 20,
     "metadata": {},
     "output_type": "execute_result"
    }
   ],
   "source": [
    "players[['salary', 'Age']].groupby([players['team']]).aggregate(np.max)"
   ]
  },
  {
   "cell_type": "markdown",
   "metadata": {},
   "source": [
    "Or..."
   ]
  },
  {
   "cell_type": "code",
   "execution_count": 21,
   "metadata": {},
   "outputs": [
    {
     "data": {
      "text/html": [
       "<div>\n",
       "<style scoped>\n",
       "    .dataframe tbody tr th:only-of-type {\n",
       "        vertical-align: middle;\n",
       "    }\n",
       "\n",
       "    .dataframe tbody tr th {\n",
       "        vertical-align: top;\n",
       "    }\n",
       "\n",
       "    .dataframe thead th {\n",
       "        text-align: right;\n",
       "    }\n",
       "</style>\n",
       "<table border=\"1\" class=\"dataframe\">\n",
       "  <thead>\n",
       "    <tr style=\"text-align: right;\">\n",
       "      <th></th>\n",
       "      <th>salary</th>\n",
       "      <th>Age</th>\n",
       "    </tr>\n",
       "    <tr>\n",
       "      <th>team</th>\n",
       "      <th></th>\n",
       "      <th></th>\n",
       "    </tr>\n",
       "  </thead>\n",
       "  <tbody>\n",
       "    <tr>\n",
       "      <th>CLE</th>\n",
       "      <td>33285709</td>\n",
       "      <td>32.0</td>\n",
       "    </tr>\n",
       "    <tr>\n",
       "      <th>DEN</th>\n",
       "      <td>31269231</td>\n",
       "      <td>31.0</td>\n",
       "    </tr>\n",
       "    <tr>\n",
       "      <th>GSW</th>\n",
       "      <td>34682550</td>\n",
       "      <td>28.0</td>\n",
       "    </tr>\n",
       "    <tr>\n",
       "      <th>LAC</th>\n",
       "      <td>29512900</td>\n",
       "      <td>27.0</td>\n",
       "    </tr>\n",
       "    <tr>\n",
       "      <th>OKC</th>\n",
       "      <td>28530608</td>\n",
       "      <td>32.0</td>\n",
       "    </tr>\n",
       "    <tr>\n",
       "      <th>SAS</th>\n",
       "      <td>18868625</td>\n",
       "      <td>39.0</td>\n",
       "    </tr>\n",
       "  </tbody>\n",
       "</table>\n",
       "</div>"
      ],
      "text/plain": [
       "        salary   Age\n",
       "team                \n",
       "CLE   33285709  32.0\n",
       "DEN   31269231  31.0\n",
       "GSW   34682550  28.0\n",
       "LAC   29512900  27.0\n",
       "OKC   28530608  32.0\n",
       "SAS   18868625  39.0"
      ]
     },
     "execution_count": 21,
     "metadata": {},
     "output_type": "execute_result"
    }
   ],
   "source": [
    "players.groupby([players['team']])[['salary', 'Age']].aggregate(np.max)"
   ]
  },
  {
   "cell_type": "markdown",
   "metadata": {},
   "source": [
    "**`aggregate` and multiple parameters:**\n",
    "\n",
    "Grouping by multiple parameters also works with `aggregate`:"
   ]
  },
  {
   "cell_type": "code",
   "execution_count": 22,
   "metadata": {},
   "outputs": [
    {
     "data": {
      "text/html": [
       "<div>\n",
       "<style scoped>\n",
       "    .dataframe tbody tr th:only-of-type {\n",
       "        vertical-align: middle;\n",
       "    }\n",
       "\n",
       "    .dataframe tbody tr th {\n",
       "        vertical-align: top;\n",
       "    }\n",
       "\n",
       "    .dataframe thead th {\n",
       "        text-align: right;\n",
       "    }\n",
       "</style>\n",
       "<table border=\"1\" class=\"dataframe\">\n",
       "  <thead>\n",
       "    <tr style=\"text-align: right;\">\n",
       "      <th></th>\n",
       "      <th></th>\n",
       "      <th>salary</th>\n",
       "      <th>Age</th>\n",
       "    </tr>\n",
       "    <tr>\n",
       "      <th>team</th>\n",
       "      <th>Pos</th>\n",
       "      <th></th>\n",
       "      <th></th>\n",
       "    </tr>\n",
       "  </thead>\n",
       "  <tbody>\n",
       "    <tr>\n",
       "      <th>CLE</th>\n",
       "      <th>SF</th>\n",
       "      <td>33285709</td>\n",
       "      <td>32.0</td>\n",
       "    </tr>\n",
       "    <tr>\n",
       "      <th>DEN</th>\n",
       "      <th>PF</th>\n",
       "      <td>31269231</td>\n",
       "      <td>31.0</td>\n",
       "    </tr>\n",
       "    <tr>\n",
       "      <th rowspan=\"3\" valign=\"top\">GSW</th>\n",
       "      <th>PF</th>\n",
       "      <td>25000000</td>\n",
       "      <td>28.0</td>\n",
       "    </tr>\n",
       "    <tr>\n",
       "      <th>PG</th>\n",
       "      <td>34682550</td>\n",
       "      <td>28.0</td>\n",
       "    </tr>\n",
       "    <tr>\n",
       "      <th>SG</th>\n",
       "      <td>17826150</td>\n",
       "      <td>26.0</td>\n",
       "    </tr>\n",
       "    <tr>\n",
       "      <th>LAC</th>\n",
       "      <th>PF</th>\n",
       "      <td>29512900</td>\n",
       "      <td>27.0</td>\n",
       "    </tr>\n",
       "    <tr>\n",
       "      <th rowspan=\"2\" valign=\"top\">OKC</th>\n",
       "      <th>PG</th>\n",
       "      <td>28530608</td>\n",
       "      <td>28.0</td>\n",
       "    </tr>\n",
       "    <tr>\n",
       "      <th>SF</th>\n",
       "      <td>26243760</td>\n",
       "      <td>32.0</td>\n",
       "    </tr>\n",
       "    <tr>\n",
       "      <th rowspan=\"2\" valign=\"top\">SAS</th>\n",
       "      <th>SF</th>\n",
       "      <td>18868625</td>\n",
       "      <td>25.0</td>\n",
       "    </tr>\n",
       "    <tr>\n",
       "      <th>SG</th>\n",
       "      <td>2500000</td>\n",
       "      <td>39.0</td>\n",
       "    </tr>\n",
       "  </tbody>\n",
       "</table>\n",
       "</div>"
      ],
      "text/plain": [
       "            salary   Age\n",
       "team Pos                \n",
       "CLE  SF   33285709  32.0\n",
       "DEN  PF   31269231  31.0\n",
       "GSW  PF   25000000  28.0\n",
       "     PG   34682550  28.0\n",
       "     SG   17826150  26.0\n",
       "LAC  PF   29512900  27.0\n",
       "OKC  PG   28530608  28.0\n",
       "     SF   26243760  32.0\n",
       "SAS  SF   18868625  25.0\n",
       "     SG    2500000  39.0"
      ]
     },
     "execution_count": 22,
     "metadata": {},
     "output_type": "execute_result"
    }
   ],
   "source": [
    "players[['salary', 'Age']].groupby([players['team'], players['Pos']]).aggregate(np.max)"
   ]
  },
  {
   "cell_type": "markdown",
   "metadata": {},
   "source": [
    "**Multiple functions:**\n",
    "\n",
    "`aggregate` can also take multiple functions to apply to the groups:"
   ]
  },
  {
   "cell_type": "code",
   "execution_count": 23,
   "metadata": {},
   "outputs": [],
   "source": [
    "def range_max_min(values):\n",
    "    return values.max() - values.min()"
   ]
  },
  {
   "cell_type": "code",
   "execution_count": 24,
   "metadata": {
    "scrolled": true
   },
   "outputs": [
    {
     "data": {
      "text/html": [
       "<div>\n",
       "<style scoped>\n",
       "    .dataframe tbody tr th:only-of-type {\n",
       "        vertical-align: middle;\n",
       "    }\n",
       "\n",
       "    .dataframe tbody tr th {\n",
       "        vertical-align: top;\n",
       "    }\n",
       "\n",
       "    .dataframe thead tr th {\n",
       "        text-align: left;\n",
       "    }\n",
       "\n",
       "    .dataframe thead tr:last-of-type th {\n",
       "        text-align: right;\n",
       "    }\n",
       "</style>\n",
       "<table border=\"1\" class=\"dataframe\">\n",
       "  <thead>\n",
       "    <tr>\n",
       "      <th></th>\n",
       "      <th colspan=\"3\" halign=\"left\">salary</th>\n",
       "      <th colspan=\"3\" halign=\"left\">Age</th>\n",
       "    </tr>\n",
       "    <tr>\n",
       "      <th></th>\n",
       "      <th>amax</th>\n",
       "      <th>amin</th>\n",
       "      <th>range_max_min</th>\n",
       "      <th>amax</th>\n",
       "      <th>amin</th>\n",
       "      <th>range_max_min</th>\n",
       "    </tr>\n",
       "    <tr>\n",
       "      <th>team</th>\n",
       "      <th></th>\n",
       "      <th></th>\n",
       "      <th></th>\n",
       "      <th></th>\n",
       "      <th></th>\n",
       "      <th></th>\n",
       "    </tr>\n",
       "  </thead>\n",
       "  <tbody>\n",
       "    <tr>\n",
       "      <th>CLE</th>\n",
       "      <td>33285709</td>\n",
       "      <td>33285709</td>\n",
       "      <td>0</td>\n",
       "      <td>32.0</td>\n",
       "      <td>32.0</td>\n",
       "      <td>0.0</td>\n",
       "    </tr>\n",
       "    <tr>\n",
       "      <th>DEN</th>\n",
       "      <td>31269231</td>\n",
       "      <td>31269231</td>\n",
       "      <td>0</td>\n",
       "      <td>31.0</td>\n",
       "      <td>31.0</td>\n",
       "      <td>0.0</td>\n",
       "    </tr>\n",
       "    <tr>\n",
       "      <th>GSW</th>\n",
       "      <td>34682550</td>\n",
       "      <td>17826150</td>\n",
       "      <td>16856400</td>\n",
       "      <td>28.0</td>\n",
       "      <td>26.0</td>\n",
       "      <td>2.0</td>\n",
       "    </tr>\n",
       "    <tr>\n",
       "      <th>LAC</th>\n",
       "      <td>29512900</td>\n",
       "      <td>29512900</td>\n",
       "      <td>0</td>\n",
       "      <td>27.0</td>\n",
       "      <td>27.0</td>\n",
       "      <td>0.0</td>\n",
       "    </tr>\n",
       "    <tr>\n",
       "      <th>OKC</th>\n",
       "      <td>28530608</td>\n",
       "      <td>26243760</td>\n",
       "      <td>2286848</td>\n",
       "      <td>32.0</td>\n",
       "      <td>28.0</td>\n",
       "      <td>4.0</td>\n",
       "    </tr>\n",
       "    <tr>\n",
       "      <th>SAS</th>\n",
       "      <td>18868625</td>\n",
       "      <td>2500000</td>\n",
       "      <td>16368625</td>\n",
       "      <td>39.0</td>\n",
       "      <td>25.0</td>\n",
       "      <td>14.0</td>\n",
       "    </tr>\n",
       "  </tbody>\n",
       "</table>\n",
       "</div>"
      ],
      "text/plain": [
       "        salary                           Age                    \n",
       "          amax      amin range_max_min  amax  amin range_max_min\n",
       "team                                                            \n",
       "CLE   33285709  33285709             0  32.0  32.0           0.0\n",
       "DEN   31269231  31269231             0  31.0  31.0           0.0\n",
       "GSW   34682550  17826150      16856400  28.0  26.0           2.0\n",
       "LAC   29512900  29512900             0  27.0  27.0           0.0\n",
       "OKC   28530608  26243760       2286848  32.0  28.0           4.0\n",
       "SAS   18868625   2500000      16368625  39.0  25.0          14.0"
      ]
     },
     "execution_count": 24,
     "metadata": {},
     "output_type": "execute_result"
    }
   ],
   "source": [
    "players[['salary', 'Age']].groupby([players['team']]).aggregate([np.max, np.min, range_max_min])"
   ]
  },
  {
   "cell_type": "markdown",
   "metadata": {},
   "source": [
    "**Dict of operations**\n",
    "\n",
    "You can also pass to `aggregate` a dictionary containing different operations to perform, based on the column:"
   ]
  },
  {
   "cell_type": "code",
   "execution_count": 25,
   "metadata": {},
   "outputs": [
    {
     "data": {
      "text/html": [
       "<div>\n",
       "<style scoped>\n",
       "    .dataframe tbody tr th:only-of-type {\n",
       "        vertical-align: middle;\n",
       "    }\n",
       "\n",
       "    .dataframe tbody tr th {\n",
       "        vertical-align: top;\n",
       "    }\n",
       "\n",
       "    .dataframe thead th {\n",
       "        text-align: right;\n",
       "    }\n",
       "</style>\n",
       "<table border=\"1\" class=\"dataframe\">\n",
       "  <thead>\n",
       "    <tr style=\"text-align: right;\">\n",
       "      <th></th>\n",
       "      <th>salary</th>\n",
       "      <th>Age</th>\n",
       "    </tr>\n",
       "    <tr>\n",
       "      <th>team</th>\n",
       "      <th></th>\n",
       "      <th></th>\n",
       "    </tr>\n",
       "  </thead>\n",
       "  <tbody>\n",
       "    <tr>\n",
       "      <th>CLE</th>\n",
       "      <td>33285709</td>\n",
       "      <td>32.000000</td>\n",
       "    </tr>\n",
       "    <tr>\n",
       "      <th>DEN</th>\n",
       "      <td>31269231</td>\n",
       "      <td>31.000000</td>\n",
       "    </tr>\n",
       "    <tr>\n",
       "      <th>GSW</th>\n",
       "      <td>34682550</td>\n",
       "      <td>27.333333</td>\n",
       "    </tr>\n",
       "    <tr>\n",
       "      <th>LAC</th>\n",
       "      <td>29512900</td>\n",
       "      <td>27.000000</td>\n",
       "    </tr>\n",
       "    <tr>\n",
       "      <th>OKC</th>\n",
       "      <td>28530608</td>\n",
       "      <td>30.000000</td>\n",
       "    </tr>\n",
       "    <tr>\n",
       "      <th>SAS</th>\n",
       "      <td>18868625</td>\n",
       "      <td>32.000000</td>\n",
       "    </tr>\n",
       "  </tbody>\n",
       "</table>\n",
       "</div>"
      ],
      "text/plain": [
       "        salary        Age\n",
       "team                     \n",
       "CLE   33285709  32.000000\n",
       "DEN   31269231  31.000000\n",
       "GSW   34682550  27.333333\n",
       "LAC   29512900  27.000000\n",
       "OKC   28530608  30.000000\n",
       "SAS   18868625  32.000000"
      ]
     },
     "execution_count": 25,
     "metadata": {},
     "output_type": "execute_result"
    }
   ],
   "source": [
    "players[['salary', 'Age']].groupby([players['team']]).aggregate({\n",
    "    'salary': np.max,\n",
    "    'Age': np.mean\n",
    "})"
   ]
  },
  {
   "cell_type": "markdown",
   "metadata": {},
   "source": [
    "![separator1](https://user-images.githubusercontent.com/7065401/39119545-6d73d9aa-46ec-11e8-98d3-40204614f000.png)\n",
    "\n",
    "### `GroupBy.apply`\n",
    "\n",
    "`apply` is also a method available to run custom operations on your groups. It's similar to `aggregate`, so we usually recommend the later one over `apply`:"
   ]
  },
  {
   "cell_type": "code",
   "execution_count": 26,
   "metadata": {},
   "outputs": [
    {
     "data": {
      "text/plain": [
       "team\n",
       "CLE    33285709\n",
       "DEN    31269231\n",
       "GSW    34682550\n",
       "LAC    29512900\n",
       "OKC    28530608\n",
       "SAS    18868625\n",
       "Name: salary, dtype: int64"
      ]
     },
     "execution_count": 26,
     "metadata": {},
     "output_type": "execute_result"
    }
   ],
   "source": [
    "players['salary'].groupby([players['team']]).apply(np.max)"
   ]
  },
  {
   "cell_type": "code",
   "execution_count": 27,
   "metadata": {
    "scrolled": true
   },
   "outputs": [
    {
     "data": {
      "text/plain": [
       "team\n",
       "CLE           0\n",
       "DEN           0\n",
       "GSW    16856400\n",
       "LAC           0\n",
       "OKC     2286848\n",
       "SAS    16368625\n",
       "Name: salary, dtype: int64"
      ]
     },
     "execution_count": 27,
     "metadata": {},
     "output_type": "execute_result"
    }
   ],
   "source": [
    "players['salary'].groupby([players['team']]).apply(lambda x: x.max() - x.min())"
   ]
  },
  {
   "cell_type": "markdown",
   "metadata": {},
   "source": [
    "![separator2](https://user-images.githubusercontent.com/7065401/39119518-59fa51ce-46ec-11e8-8503-5f8136558f2b.png)"
   ]
  }
 ],
 "metadata": {
  "kernelspec": {
   "display_name": "Python 3",
   "language": "python",
   "name": "python3"
  },
  "language_info": {
   "codemirror_mode": {
    "name": "ipython",
    "version": 3
   },
   "file_extension": ".py",
   "mimetype": "text/x-python",
   "name": "python",
   "nbconvert_exporter": "python",
   "pygments_lexer": "ipython3",
   "version": "3.6.4"
  }
 },
 "nbformat": 4,
 "nbformat_minor": 2
}
