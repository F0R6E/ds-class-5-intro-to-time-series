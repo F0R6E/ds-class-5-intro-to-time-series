{
 "cells": [
  {
   "cell_type": "code",
   "execution_count": 1,
   "metadata": {},
   "outputs": [],
   "source": [
    "import pandas as pd\n",
    "import numpy as np\n",
    "import matplotlib.pyplot as plt\n",
    "import seaborn as sns\n",
    "\n",
    "%matplotlib inline"
   ]
  },
  {
   "cell_type": "code",
   "execution_count": 2,
   "metadata": {},
   "outputs": [],
   "source": [
    "pd.options.display.float_format = '{:,.2f}'.format"
   ]
  },
  {
   "cell_type": "code",
   "execution_count": 3,
   "metadata": {},
   "outputs": [],
   "source": [
    "players = pd.DataFrame({\n",
    "    'salary': [\n",
    "        33285709,\n",
    "        31269231,\n",
    "        34682550,\n",
    "        25000000,\n",
    "        17826150,\n",
    "        29512900,\n",
    "        28530608,\n",
    "        26243760,\n",
    "        18868625,\n",
    "        2500000\n",
    "    ],\n",
    "    'season_start': [\n",
    "        2017, 2017, 2017, 2017, 2017, 2017, 2017, 2017, 2017, 2017\n",
    "    ],\n",
    "    'season_end': [2018, 2018, 2018, 2018, 2018, 2018, 2018, 2018, 2018, 2018],\n",
    "    'team': [\n",
    "        'CLE',\n",
    "        'DEN',\n",
    "        'GSW',\n",
    "        'GSW',\n",
    "        'GSW',\n",
    "        'LAC',\n",
    "        'OKC',\n",
    "        'OKC',\n",
    "        'SAS',\n",
    "        'SAS'\n",
    "    ],\n",
    "    'Pos': [\n",
    "        'SF', 'PF', 'PG', np.nan, 'SG', 'PF', 'PG', 'SF', 'SF', 'SG'\n",
    "    ],\n",
    "    'Age': [32.0, 31.0, 28.0, 28.0, 26.0, np.nan, 28.0, 32.0, 25.0, 39.0]\n",
    "}, index=[\n",
    "    'LeBron James',\n",
    "    'Paul Millsap',\n",
    "    'Stephen Curry',\n",
    "    'Kevin Durant',\n",
    "    'Klay Thompson',\n",
    "    'Blake Griffin',\n",
    "    'Russell Westbrook',\n",
    "    'Carmelo Anthony',\n",
    "    'Kawhi Leonard',\n",
    "    'Manu Ginobili'\n",
    "])"
   ]
  },
  {
   "cell_type": "code",
   "execution_count": 4,
   "metadata": {},
   "outputs": [
    {
     "data": {
      "text/html": [
       "<div>\n",
       "<style scoped>\n",
       "    .dataframe tbody tr th:only-of-type {\n",
       "        vertical-align: middle;\n",
       "    }\n",
       "\n",
       "    .dataframe tbody tr th {\n",
       "        vertical-align: top;\n",
       "    }\n",
       "\n",
       "    .dataframe thead th {\n",
       "        text-align: right;\n",
       "    }\n",
       "</style>\n",
       "<table border=\"1\" class=\"dataframe\">\n",
       "  <thead>\n",
       "    <tr style=\"text-align: right;\">\n",
       "      <th></th>\n",
       "      <th>Age</th>\n",
       "      <th>Pos</th>\n",
       "      <th>salary</th>\n",
       "      <th>season_end</th>\n",
       "      <th>season_start</th>\n",
       "      <th>team</th>\n",
       "    </tr>\n",
       "  </thead>\n",
       "  <tbody>\n",
       "    <tr>\n",
       "      <th>LeBron James</th>\n",
       "      <td>32.00</td>\n",
       "      <td>SF</td>\n",
       "      <td>33285709</td>\n",
       "      <td>2018</td>\n",
       "      <td>2017</td>\n",
       "      <td>CLE</td>\n",
       "    </tr>\n",
       "    <tr>\n",
       "      <th>Paul Millsap</th>\n",
       "      <td>31.00</td>\n",
       "      <td>PF</td>\n",
       "      <td>31269231</td>\n",
       "      <td>2018</td>\n",
       "      <td>2017</td>\n",
       "      <td>DEN</td>\n",
       "    </tr>\n",
       "    <tr>\n",
       "      <th>Stephen Curry</th>\n",
       "      <td>28.00</td>\n",
       "      <td>PG</td>\n",
       "      <td>34682550</td>\n",
       "      <td>2018</td>\n",
       "      <td>2017</td>\n",
       "      <td>GSW</td>\n",
       "    </tr>\n",
       "    <tr>\n",
       "      <th>Kevin Durant</th>\n",
       "      <td>28.00</td>\n",
       "      <td>NaN</td>\n",
       "      <td>25000000</td>\n",
       "      <td>2018</td>\n",
       "      <td>2017</td>\n",
       "      <td>GSW</td>\n",
       "    </tr>\n",
       "    <tr>\n",
       "      <th>Klay Thompson</th>\n",
       "      <td>26.00</td>\n",
       "      <td>SG</td>\n",
       "      <td>17826150</td>\n",
       "      <td>2018</td>\n",
       "      <td>2017</td>\n",
       "      <td>GSW</td>\n",
       "    </tr>\n",
       "    <tr>\n",
       "      <th>Blake Griffin</th>\n",
       "      <td>nan</td>\n",
       "      <td>PF</td>\n",
       "      <td>29512900</td>\n",
       "      <td>2018</td>\n",
       "      <td>2017</td>\n",
       "      <td>LAC</td>\n",
       "    </tr>\n",
       "    <tr>\n",
       "      <th>Russell Westbrook</th>\n",
       "      <td>28.00</td>\n",
       "      <td>PG</td>\n",
       "      <td>28530608</td>\n",
       "      <td>2018</td>\n",
       "      <td>2017</td>\n",
       "      <td>OKC</td>\n",
       "    </tr>\n",
       "    <tr>\n",
       "      <th>Carmelo Anthony</th>\n",
       "      <td>32.00</td>\n",
       "      <td>SF</td>\n",
       "      <td>26243760</td>\n",
       "      <td>2018</td>\n",
       "      <td>2017</td>\n",
       "      <td>OKC</td>\n",
       "    </tr>\n",
       "    <tr>\n",
       "      <th>Kawhi Leonard</th>\n",
       "      <td>25.00</td>\n",
       "      <td>SF</td>\n",
       "      <td>18868625</td>\n",
       "      <td>2018</td>\n",
       "      <td>2017</td>\n",
       "      <td>SAS</td>\n",
       "    </tr>\n",
       "    <tr>\n",
       "      <th>Manu Ginobili</th>\n",
       "      <td>39.00</td>\n",
       "      <td>SG</td>\n",
       "      <td>2500000</td>\n",
       "      <td>2018</td>\n",
       "      <td>2017</td>\n",
       "      <td>SAS</td>\n",
       "    </tr>\n",
       "  </tbody>\n",
       "</table>\n",
       "</div>"
      ],
      "text/plain": [
       "                    Age  Pos    salary  season_end  season_start team\n",
       "LeBron James      32.00   SF  33285709        2018          2017  CLE\n",
       "Paul Millsap      31.00   PF  31269231        2018          2017  DEN\n",
       "Stephen Curry     28.00   PG  34682550        2018          2017  GSW\n",
       "Kevin Durant      28.00  NaN  25000000        2018          2017  GSW\n",
       "Klay Thompson     26.00   SG  17826150        2018          2017  GSW\n",
       "Blake Griffin       nan   PF  29512900        2018          2017  LAC\n",
       "Russell Westbrook 28.00   PG  28530608        2018          2017  OKC\n",
       "Carmelo Anthony   32.00   SF  26243760        2018          2017  OKC\n",
       "Kawhi Leonard     25.00   SF  18868625        2018          2017  SAS\n",
       "Manu Ginobili     39.00   SG   2500000        2018          2017  SAS"
      ]
     },
     "execution_count": 4,
     "metadata": {},
     "output_type": "execute_result"
    }
   ],
   "source": [
    "players"
   ]
  },
  {
   "cell_type": "markdown",
   "metadata": {},
   "source": [
    "| Function | Datastructure   |    Applied to   |\n",
    "|----------|-----------------|-----------------|\n",
    "| `map`| `Series` | Each value |\n",
    "| `apply` | `Series` | All values |"
   ]
  },
  {
   "cell_type": "markdown",
   "metadata": {},
   "source": [
    "## Series\n",
    "\n",
    "Most important Series methos are `map` and `apply`. DataFrames also have an `apply` method, which makes it confusing. For now, we'll focus ONLY in `Series`."
   ]
  },
  {
   "cell_type": "markdown",
   "metadata": {},
   "source": [
    "### [`map`](https://pandas.pydata.org/pandas-docs/stable/generated/pandas.Series.map.html)\n",
    "\n",
    "`map` is a method from **Series**, and will let you _map_ from the series' values, to new values:"
   ]
  },
  {
   "cell_type": "code",
   "execution_count": 10,
   "metadata": {},
   "outputs": [
    {
     "data": {
      "text/plain": [
       "array(['SF', 'PF', 'PG', nan, 'SG'], dtype=object)"
      ]
     },
     "execution_count": 10,
     "metadata": {},
     "output_type": "execute_result"
    }
   ],
   "source": [
    "players['Pos'].unique()"
   ]
  },
  {
   "cell_type": "code",
   "execution_count": 8,
   "metadata": {},
   "outputs": [
    {
     "data": {
      "text/plain": [
       "LeBron James          Small Forward\n",
       "Paul Millsap          Power Forward\n",
       "Stephen Curry           Point Guard\n",
       "Kevin Durant                    NaN\n",
       "Klay Thompson        Shooting Guard\n",
       "Blake Griffin         Power Forward\n",
       "Russell Westbrook       Point Guard\n",
       "Carmelo Anthony       Small Forward\n",
       "Kawhi Leonard         Small Forward\n",
       "Manu Ginobili        Shooting Guard\n",
       "Name: Pos, dtype: object"
      ]
     },
     "execution_count": 8,
     "metadata": {},
     "output_type": "execute_result"
    }
   ],
   "source": [
    "players['Pos'].map({\n",
    "    'PG': 'Point Guard',\n",
    "    'SG': 'Shooting Guard',\n",
    "    'SF': 'Small Forward',\n",
    "    'PF': 'Power Forward',\n",
    "})"
   ]
  },
  {
   "cell_type": "code",
   "execution_count": 11,
   "metadata": {
    "scrolled": true
   },
   "outputs": [
    {
     "data": {
      "text/plain": [
       "LeBron James          Position: SF\n",
       "Paul Millsap          Position: PF\n",
       "Stephen Curry         Position: PG\n",
       "Kevin Durant         Position: nan\n",
       "Klay Thompson         Position: SG\n",
       "Blake Griffin         Position: PF\n",
       "Russell Westbrook     Position: PG\n",
       "Carmelo Anthony       Position: SF\n",
       "Kawhi Leonard         Position: SF\n",
       "Manu Ginobili         Position: SG\n",
       "Name: Pos, dtype: object"
      ]
     },
     "execution_count": 11,
     "metadata": {},
     "output_type": "execute_result"
    }
   ],
   "source": [
    "players['Pos'].map('Position: {}'.format)"
   ]
  },
  {
   "cell_type": "markdown",
   "metadata": {},
   "source": [
    "It takes an optional `na_action` parameter that specify what to do with `nan` values:"
   ]
  },
  {
   "cell_type": "code",
   "execution_count": 14,
   "metadata": {},
   "outputs": [
    {
     "data": {
      "text/plain": [
       "LeBron James         Position: SF\n",
       "Paul Millsap         Position: PF\n",
       "Stephen Curry        Position: PG\n",
       "Kevin Durant                  NaN\n",
       "Klay Thompson        Position: SG\n",
       "Blake Griffin        Position: PF\n",
       "Russell Westbrook    Position: PG\n",
       "Carmelo Anthony      Position: SF\n",
       "Kawhi Leonard        Position: SF\n",
       "Manu Ginobili        Position: SG\n",
       "Name: Pos, dtype: object"
      ]
     },
     "execution_count": 14,
     "metadata": {},
     "output_type": "execute_result"
    }
   ],
   "source": [
    "players['Pos'].map('Position: {}'.format, na_action='ignore')"
   ]
  },
  {
   "cell_type": "markdown",
   "metadata": {},
   "source": [
    "### [`apply`](https://pandas.pydata.org/pandas-docs/stable/generated/pandas.Series.apply.html)\n",
    "\n",
    "In a Series, `apply` _applies_ a custom function to each element and return a new Series.\n",
    "\n",
    "For example, apply the function `age_to_days` to each player's age:"
   ]
  },
  {
   "cell_type": "code",
   "execution_count": 26,
   "metadata": {},
   "outputs": [
    {
     "data": {
      "text/plain": [
       "LeBron James         11680.0\n",
       "Paul Millsap         11315.0\n",
       "Stephen Curry        10220.0\n",
       "Kevin Durant         10220.0\n",
       "Klay Thompson         9490.0\n",
       "Blake Griffin            NaN\n",
       "Russell Westbrook    10220.0\n",
       "Carmelo Anthony      11680.0\n",
       "Kawhi Leonard         9125.0\n",
       "Manu Ginobili        14235.0\n",
       "Name: Age, dtype: float64"
      ]
     },
     "execution_count": 26,
     "metadata": {},
     "output_type": "execute_result"
    }
   ],
   "source": [
    "players['Age'].apply(lambda age: age * 365)"
   ]
  },
  {
   "cell_type": "markdown",
   "metadata": {},
   "source": [
    "Sometimes (and for Series specially) the functionalities of `map` and `apply` overlap. When you have a custom function, favor `apply`, when you have a 1-on-1 mapping (like the dict one), use `map`."
   ]
  },
  {
   "cell_type": "code",
   "execution_count": 27,
   "metadata": {
    "scrolled": false
   },
   "outputs": [
    {
     "data": {
      "text/plain": [
       "LeBron James         33,285,709.00\n",
       "Paul Millsap         31,269,231.00\n",
       "Stephen Curry        34,682,550.00\n",
       "Kevin Durant         25,000,000.00\n",
       "Klay Thompson        17,826,150.00\n",
       "Blake Griffin        29,512,900.00\n",
       "Russell Westbrook    28,530,608.00\n",
       "Carmelo Anthony      26,243,760.00\n",
       "Kawhi Leonard        18,868,625.00\n",
       "Manu Ginobili         2,500,000.00\n",
       "Name: salary, dtype: object"
      ]
     },
     "execution_count": 27,
     "metadata": {},
     "output_type": "execute_result"
    }
   ],
   "source": [
    "players['salary'].apply('{:,.2f}'.format)"
   ]
  },
  {
   "cell_type": "code",
   "execution_count": 28,
   "metadata": {
    "scrolled": false
   },
   "outputs": [
    {
     "data": {
      "text/plain": [
       "LeBron James         33,285,709.00\n",
       "Paul Millsap         31,269,231.00\n",
       "Stephen Curry        34,682,550.00\n",
       "Kevin Durant         25,000,000.00\n",
       "Klay Thompson        17,826,150.00\n",
       "Blake Griffin        29,512,900.00\n",
       "Russell Westbrook    28,530,608.00\n",
       "Carmelo Anthony      26,243,760.00\n",
       "Kawhi Leonard        18,868,625.00\n",
       "Manu Ginobili         2,500,000.00\n",
       "Name: salary, dtype: object"
      ]
     },
     "execution_count": 28,
     "metadata": {},
     "output_type": "execute_result"
    }
   ],
   "source": [
    "players['salary'].map('{:,.2f}'.format)"
   ]
  },
  {
   "cell_type": "markdown",
   "metadata": {},
   "source": [
    "`apply` let's you specify other parameters (arguments and keyword arguments) to pass to the function:"
   ]
  },
  {
   "cell_type": "code",
   "execution_count": 32,
   "metadata": {},
   "outputs": [
    {
     "data": {
      "text/plain": [
       "LeBron James         33,285,709.000\n",
       "Paul Millsap         31,269,231.000\n",
       "Stephen Curry        34,682,550.000\n",
       "Kevin Durant         25,000,000.000\n",
       "Klay Thompson        17,826,150.000\n",
       "Blake Griffin        29,512,900.000\n",
       "Russell Westbrook    28,530,608.000\n",
       "Carmelo Anthony      26,243,760.000\n",
       "Kawhi Leonard        18,868,625.000\n",
       "Manu Ginobili         2,500,000.000\n",
       "Name: salary, dtype: object"
      ]
     },
     "execution_count": 32,
     "metadata": {},
     "output_type": "execute_result"
    }
   ],
   "source": [
    "players['salary'].apply(lambda salary, precision: '{salary:,.{prec}f}'.format(\n",
    "    salary=salary, prec=precision), args=(3, ))"
   ]
  },
  {
   "cell_type": "code",
   "execution_count": 33,
   "metadata": {
    "scrolled": true
   },
   "outputs": [
    {
     "data": {
      "text/plain": [
       "LeBron James         33,285,709.000\n",
       "Paul Millsap         31,269,231.000\n",
       "Stephen Curry        34,682,550.000\n",
       "Kevin Durant         25,000,000.000\n",
       "Klay Thompson        17,826,150.000\n",
       "Blake Griffin        29,512,900.000\n",
       "Russell Westbrook    28,530,608.000\n",
       "Carmelo Anthony      26,243,760.000\n",
       "Kawhi Leonard        18,868,625.000\n",
       "Manu Ginobili         2,500,000.000\n",
       "Name: salary, dtype: object"
      ]
     },
     "execution_count": 33,
     "metadata": {},
     "output_type": "execute_result"
    }
   ],
   "source": [
    "players['salary'].apply(lambda salary, precision: '{salary:,.{prec}f}'.format(\n",
    "    salary=salary, prec=precision), precision=3)"
   ]
  },
  {
   "cell_type": "markdown",
   "metadata": {},
   "source": [
    "### Indexes\n",
    "\n",
    "Indexes are special, they're not as versatile as Series or DataFrames, but you can still _apply_ functions. `Index` doesn't have the `apply` method, it on"
   ]
  },
  {
   "cell_type": "code",
   "execution_count": 5,
   "metadata": {},
   "outputs": [
    {
     "data": {
      "text/plain": [
       "Int64Index([12, 12, 13, 12, 13, 13, 17, 15, 13, 13], dtype='int64')"
      ]
     },
     "execution_count": 5,
     "metadata": {},
     "output_type": "execute_result"
    }
   ],
   "source": [
    "players.index.map(len)"
   ]
  },
  {
   "cell_type": "markdown",
   "metadata": {},
   "source": [
    "The `apply` method is not defined, if you absolutely need `apply`, you need to reset the index first:"
   ]
  },
  {
   "cell_type": "code",
   "execution_count": 51,
   "metadata": {
    "scrolled": true
   },
   "outputs": [
    {
     "data": {
      "text/plain": [
       "0    12\n",
       "1    12\n",
       "2    13\n",
       "3    12\n",
       "4    13\n",
       "5    13\n",
       "6    17\n",
       "7    15\n",
       "8    13\n",
       "9    13\n",
       "Name: index, dtype: int64"
      ]
     },
     "execution_count": 51,
     "metadata": {},
     "output_type": "execute_result"
    }
   ],
   "source": [
    "players.reset_index()['index'].apply(len)"
   ]
  },
  {
   "cell_type": "markdown",
   "metadata": {},
   "source": [
    "Most of these common operations are already provided in base String functions provided by pandas:"
   ]
  },
  {
   "cell_type": "code",
   "execution_count": 7,
   "metadata": {},
   "outputs": [
    {
     "data": {
      "text/plain": [
       "Int64Index([12, 12, 13, 12, 13, 13, 17, 15, 13, 13], dtype='int64')"
      ]
     },
     "execution_count": 7,
     "metadata": {},
     "output_type": "execute_result"
    }
   ],
   "source": [
    "players.index.str.len()"
   ]
  },
  {
   "cell_type": "markdown",
   "metadata": {},
   "source": [
    "## DataFrames\n",
    "\n",
    "DataFrames most important methods are `apply` and `applymap`. `applymap` is similar to Series' `apply`: it performs an operation element-wise (\"value per value\").\n",
    "\n",
    "### `DataFrame.applymap`"
   ]
  },
  {
   "cell_type": "code",
   "execution_count": 54,
   "metadata": {},
   "outputs": [
    {
     "data": {
      "text/html": [
       "<div>\n",
       "<style scoped>\n",
       "    .dataframe tbody tr th:only-of-type {\n",
       "        vertical-align: middle;\n",
       "    }\n",
       "\n",
       "    .dataframe tbody tr th {\n",
       "        vertical-align: top;\n",
       "    }\n",
       "\n",
       "    .dataframe thead th {\n",
       "        text-align: right;\n",
       "    }\n",
       "</style>\n",
       "<table border=\"1\" class=\"dataframe\">\n",
       "  <thead>\n",
       "    <tr style=\"text-align: right;\">\n",
       "      <th></th>\n",
       "      <th>Age</th>\n",
       "      <th>salary</th>\n",
       "    </tr>\n",
       "  </thead>\n",
       "  <tbody>\n",
       "    <tr>\n",
       "      <th>LeBron James</th>\n",
       "      <td>32.00</td>\n",
       "      <td>33,285,709.00</td>\n",
       "    </tr>\n",
       "    <tr>\n",
       "      <th>Paul Millsap</th>\n",
       "      <td>31.00</td>\n",
       "      <td>31,269,231.00</td>\n",
       "    </tr>\n",
       "    <tr>\n",
       "      <th>Stephen Curry</th>\n",
       "      <td>28.00</td>\n",
       "      <td>34,682,550.00</td>\n",
       "    </tr>\n",
       "    <tr>\n",
       "      <th>Kevin Durant</th>\n",
       "      <td>28.00</td>\n",
       "      <td>25,000,000.00</td>\n",
       "    </tr>\n",
       "    <tr>\n",
       "      <th>Klay Thompson</th>\n",
       "      <td>26.00</td>\n",
       "      <td>17,826,150.00</td>\n",
       "    </tr>\n",
       "    <tr>\n",
       "      <th>Blake Griffin</th>\n",
       "      <td>nan</td>\n",
       "      <td>29,512,900.00</td>\n",
       "    </tr>\n",
       "    <tr>\n",
       "      <th>Russell Westbrook</th>\n",
       "      <td>28.00</td>\n",
       "      <td>28,530,608.00</td>\n",
       "    </tr>\n",
       "    <tr>\n",
       "      <th>Carmelo Anthony</th>\n",
       "      <td>32.00</td>\n",
       "      <td>26,243,760.00</td>\n",
       "    </tr>\n",
       "    <tr>\n",
       "      <th>Kawhi Leonard</th>\n",
       "      <td>25.00</td>\n",
       "      <td>18,868,625.00</td>\n",
       "    </tr>\n",
       "    <tr>\n",
       "      <th>Manu Ginobili</th>\n",
       "      <td>39.00</td>\n",
       "      <td>2,500,000.00</td>\n",
       "    </tr>\n",
       "  </tbody>\n",
       "</table>\n",
       "</div>"
      ],
      "text/plain": [
       "                     Age         salary\n",
       "LeBron James       32.00  33,285,709.00\n",
       "Paul Millsap       31.00  31,269,231.00\n",
       "Stephen Curry      28.00  34,682,550.00\n",
       "Kevin Durant       28.00  25,000,000.00\n",
       "Klay Thompson      26.00  17,826,150.00\n",
       "Blake Griffin        nan  29,512,900.00\n",
       "Russell Westbrook  28.00  28,530,608.00\n",
       "Carmelo Anthony    32.00  26,243,760.00\n",
       "Kawhi Leonard      25.00  18,868,625.00\n",
       "Manu Ginobili      39.00   2,500,000.00"
      ]
     },
     "execution_count": 54,
     "metadata": {},
     "output_type": "execute_result"
    }
   ],
   "source": [
    "players[['Age', 'salary']].applymap(lambda x: '{:,.2f}'.format(x))"
   ]
  },
  {
   "cell_type": "markdown",
   "metadata": {},
   "source": [
    "Again, you're applying your function to **each element** individually.\n",
    "\n",
    "### `DataFrame.apply`\n",
    "Probably the most interesting method of a DataFrame is `apply`, as it works on a per-row or per-column basis. The default behavior is \"per column\":"
   ]
  },
  {
   "cell_type": "code",
   "execution_count": 55,
   "metadata": {},
   "outputs": [],
   "source": [
    "def range_per_column(a_column):\n",
    "    return a_column.max() - a_column.min()"
   ]
  },
  {
   "cell_type": "code",
   "execution_count": 56,
   "metadata": {},
   "outputs": [
    {
     "data": {
      "text/plain": [
       "Age             14.0\n",
       "salary    32182550.0\n",
       "dtype: float64"
      ]
     },
     "execution_count": 56,
     "metadata": {},
     "output_type": "execute_result"
    }
   ],
   "source": [
    "players[['Age', 'salary']].apply(range_per_column)"
   ]
  },
  {
   "cell_type": "markdown",
   "metadata": {},
   "source": [
    "And as you can see, the `DataFrame` has been \"pivoted\", the columns `Age` and `salary` are now the indexes of the resulting `Series`.\n",
    "\n",
    "Finally, using `apply` per row is really useful too, because your custom function receives an entire row, and you can operate on all those row values:"
   ]
  },
  {
   "cell_type": "code",
   "execution_count": 57,
   "metadata": {},
   "outputs": [
    {
     "data": {
      "text/html": [
       "<div>\n",
       "<style scoped>\n",
       "    .dataframe tbody tr th:only-of-type {\n",
       "        vertical-align: middle;\n",
       "    }\n",
       "\n",
       "    .dataframe tbody tr th {\n",
       "        vertical-align: top;\n",
       "    }\n",
       "\n",
       "    .dataframe thead th {\n",
       "        text-align: right;\n",
       "    }\n",
       "</style>\n",
       "<table border=\"1\" class=\"dataframe\">\n",
       "  <thead>\n",
       "    <tr style=\"text-align: right;\">\n",
       "      <th></th>\n",
       "      <th>Age</th>\n",
       "      <th>Pos</th>\n",
       "      <th>salary</th>\n",
       "      <th>season_end</th>\n",
       "      <th>season_start</th>\n",
       "      <th>team</th>\n",
       "    </tr>\n",
       "  </thead>\n",
       "  <tbody>\n",
       "    <tr>\n",
       "      <th>LeBron James</th>\n",
       "      <td>32.0</td>\n",
       "      <td>SF</td>\n",
       "      <td>33285709</td>\n",
       "      <td>2018</td>\n",
       "      <td>2017</td>\n",
       "      <td>CLE</td>\n",
       "    </tr>\n",
       "    <tr>\n",
       "      <th>Paul Millsap</th>\n",
       "      <td>31.0</td>\n",
       "      <td>PF</td>\n",
       "      <td>31269231</td>\n",
       "      <td>2018</td>\n",
       "      <td>2017</td>\n",
       "      <td>DEN</td>\n",
       "    </tr>\n",
       "    <tr>\n",
       "      <th>Stephen Curry</th>\n",
       "      <td>28.0</td>\n",
       "      <td>PG</td>\n",
       "      <td>34682550</td>\n",
       "      <td>2018</td>\n",
       "      <td>2017</td>\n",
       "      <td>GSW</td>\n",
       "    </tr>\n",
       "    <tr>\n",
       "      <th>Kevin Durant</th>\n",
       "      <td>28.0</td>\n",
       "      <td>NaN</td>\n",
       "      <td>25000000</td>\n",
       "      <td>2018</td>\n",
       "      <td>2017</td>\n",
       "      <td>GSW</td>\n",
       "    </tr>\n",
       "    <tr>\n",
       "      <th>Klay Thompson</th>\n",
       "      <td>26.0</td>\n",
       "      <td>SG</td>\n",
       "      <td>17826150</td>\n",
       "      <td>2018</td>\n",
       "      <td>2017</td>\n",
       "      <td>GSW</td>\n",
       "    </tr>\n",
       "    <tr>\n",
       "      <th>Blake Griffin</th>\n",
       "      <td>NaN</td>\n",
       "      <td>PF</td>\n",
       "      <td>29512900</td>\n",
       "      <td>2018</td>\n",
       "      <td>2017</td>\n",
       "      <td>LAC</td>\n",
       "    </tr>\n",
       "    <tr>\n",
       "      <th>Russell Westbrook</th>\n",
       "      <td>28.0</td>\n",
       "      <td>PG</td>\n",
       "      <td>28530608</td>\n",
       "      <td>2018</td>\n",
       "      <td>2017</td>\n",
       "      <td>OKC</td>\n",
       "    </tr>\n",
       "    <tr>\n",
       "      <th>Carmelo Anthony</th>\n",
       "      <td>32.0</td>\n",
       "      <td>SF</td>\n",
       "      <td>26243760</td>\n",
       "      <td>2018</td>\n",
       "      <td>2017</td>\n",
       "      <td>OKC</td>\n",
       "    </tr>\n",
       "    <tr>\n",
       "      <th>Kawhi Leonard</th>\n",
       "      <td>25.0</td>\n",
       "      <td>SF</td>\n",
       "      <td>18868625</td>\n",
       "      <td>2018</td>\n",
       "      <td>2017</td>\n",
       "      <td>SAS</td>\n",
       "    </tr>\n",
       "    <tr>\n",
       "      <th>Manu Ginobili</th>\n",
       "      <td>39.0</td>\n",
       "      <td>SG</td>\n",
       "      <td>2500000</td>\n",
       "      <td>2018</td>\n",
       "      <td>2017</td>\n",
       "      <td>SAS</td>\n",
       "    </tr>\n",
       "  </tbody>\n",
       "</table>\n",
       "</div>"
      ],
      "text/plain": [
       "                    Age  Pos    salary  season_end  season_start team\n",
       "LeBron James       32.0   SF  33285709        2018          2017  CLE\n",
       "Paul Millsap       31.0   PF  31269231        2018          2017  DEN\n",
       "Stephen Curry      28.0   PG  34682550        2018          2017  GSW\n",
       "Kevin Durant       28.0  NaN  25000000        2018          2017  GSW\n",
       "Klay Thompson      26.0   SG  17826150        2018          2017  GSW\n",
       "Blake Griffin       NaN   PF  29512900        2018          2017  LAC\n",
       "Russell Westbrook  28.0   PG  28530608        2018          2017  OKC\n",
       "Carmelo Anthony    32.0   SF  26243760        2018          2017  OKC\n",
       "Kawhi Leonard      25.0   SF  18868625        2018          2017  SAS\n",
       "Manu Ginobili      39.0   SG   2500000        2018          2017  SAS"
      ]
     },
     "execution_count": 57,
     "metadata": {},
     "output_type": "execute_result"
    }
   ],
   "source": [
    "players"
   ]
  },
  {
   "cell_type": "code",
   "execution_count": 61,
   "metadata": {},
   "outputs": [],
   "source": [
    "def salary_per_year_of_age(a_row):\n",
    "    return a_row['salary'] / a_row['Age']"
   ]
  },
  {
   "cell_type": "code",
   "execution_count": 64,
   "metadata": {
    "scrolled": true
   },
   "outputs": [
    {
     "data": {
      "text/plain": [
       "LeBron James        1,040,178.41\n",
       "Paul Millsap        1,008,684.87\n",
       "Stephen Curry       1,238,662.50\n",
       "Kevin Durant          892,857.14\n",
       "Klay Thompson         685,621.15\n",
       "Blake Griffin                nan\n",
       "Russell Westbrook   1,018,950.29\n",
       "Carmelo Anthony       820,117.50\n",
       "Kawhi Leonard         754,745.00\n",
       "Manu Ginobili          64,102.56\n",
       "dtype: float64"
      ]
     },
     "execution_count": 64,
     "metadata": {},
     "output_type": "execute_result"
    }
   ],
   "source": [
    "players.apply(salary_per_year_of_age, axis=1)"
   ]
  },
  {
   "cell_type": "markdown",
   "metadata": {},
   "source": [
    "`DataFrame.apply` also takes possible extra arguments:"
   ]
  },
  {
   "cell_type": "code",
   "execution_count": 69,
   "metadata": {},
   "outputs": [],
   "source": [
    "def salary_per_age_period(a_row, period=1):\n",
    "    return a_row['salary'] / (a_row['Age'] * period)"
   ]
  },
  {
   "cell_type": "code",
   "execution_count": 70,
   "metadata": {},
   "outputs": [
    {
     "data": {
      "text/plain": [
       "LeBron James        1,040,178.41\n",
       "Paul Millsap        1,008,684.87\n",
       "Stephen Curry       1,238,662.50\n",
       "Kevin Durant          892,857.14\n",
       "Klay Thompson         685,621.15\n",
       "Blake Griffin                nan\n",
       "Russell Westbrook   1,018,950.29\n",
       "Carmelo Anthony       820,117.50\n",
       "Kawhi Leonard         754,745.00\n",
       "Manu Ginobili          64,102.56\n",
       "dtype: float64"
      ]
     },
     "execution_count": 70,
     "metadata": {},
     "output_type": "execute_result"
    }
   ],
   "source": [
    "players.apply(salary_per_age_period, axis=1, period=1)  # per year of age"
   ]
  },
  {
   "cell_type": "code",
   "execution_count": 71,
   "metadata": {
    "scrolled": true
   },
   "outputs": [
    {
     "data": {
      "text/plain": [
       "LeBron James         86,681.53\n",
       "Paul Millsap         84,057.07\n",
       "Stephen Curry       103,221.88\n",
       "Kevin Durant         74,404.76\n",
       "Klay Thompson        57,135.10\n",
       "Blake Griffin              nan\n",
       "Russell Westbrook    84,912.52\n",
       "Carmelo Anthony      68,343.12\n",
       "Kawhi Leonard        62,895.42\n",
       "Manu Ginobili         5,341.88\n",
       "dtype: float64"
      ]
     },
     "execution_count": 71,
     "metadata": {},
     "output_type": "execute_result"
    }
   ],
   "source": [
    "players.apply(salary_per_age_period, axis=1, period=12)  # per month of age"
   ]
  }
 ],
 "metadata": {
  "kernelspec": {
   "display_name": "Python 3",
   "language": "python",
   "name": "python3"
  },
  "language_info": {
   "codemirror_mode": {
    "name": "ipython",
    "version": 3
   },
   "file_extension": ".py",
   "mimetype": "text/x-python",
   "name": "python",
   "nbconvert_exporter": "python",
   "pygments_lexer": "ipython3",
   "version": "3.6.4"
  }
 },
 "nbformat": 4,
 "nbformat_minor": 2
}
